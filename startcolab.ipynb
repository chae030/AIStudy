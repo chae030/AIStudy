{
  "nbformat": 4,
  "nbformat_minor": 0,
  "metadata": {
    "colab": {
      "provenance": [],
      "authorship_tag": "ABX9TyPt/kSQlJpz4KSzd1o+4O5Z",
      "include_colab_link": true
    },
    "kernelspec": {
      "name": "python3",
      "display_name": "Python 3"
    },
    "language_info": {
      "name": "python"
    }
  },
  "cells": [
    {
      "cell_type": "markdown",
      "metadata": {
        "id": "view-in-github",
        "colab_type": "text"
      },
      "source": [
        "<a href=\"https://colab.research.google.com/github/chae030/python-aistudy/blob/master/startcolab.ipynb\" target=\"_parent\"><img src=\"https://colab.research.google.com/assets/colab-badge.svg\" alt=\"Open In Colab\"/></a>"
      ]
    },
    {
      "cell_type": "code",
      "execution_count": null,
      "metadata": {
        "id": "FjZtAs5RnFpT",
        "colab": {
          "base_uri": "https://localhost:8080/",
          "height": 376
        },
        "outputId": "c08e73e7-6f58-476a-e455-f9bec4f1bd0c"
      },
      "outputs": [
        {
          "output_type": "display_data",
          "data": {
            "text/plain": [
              "<Figure size 300x300 with 1 Axes>"
            ],
            "image/png": "[encoded data removed]"
          },
          "metadata": {}
        },
        {
          "output_type": "stream",
          "name": "stdout",
          "text": [
            "[ 0.  0.  9. 14.  8.  1.  0.  0.  0.  0. 12. 14. 14. 12.  0.  0.  0.  0.\n",
            "  9. 10.  0. 15.  4.  0.  0.  0.  3. 16. 12. 14.  2.  0.  0.  0.  4. 16.\n",
            " 16.  2.  0.  0.  0.  3. 16.  8. 10. 13.  2.  0.  0.  1. 15.  1.  3. 16.\n",
            "  8.  0.  0.  0. 11. 16. 15. 11.  1.  0.]\n",
            "이 숫자는  8 입니다.\n"
          ]
        }
      ],
      "source": [
        "from sklearn import datasets as dset\n",
        "import matplotlib.pyplot as plt\n",
        "\n",
        "digit = dset.load_digits()\n",
        "\n",
        "plt.figure(figsize=(3, 3))\n",
        "plt.imshow(digit.images[8], cmap=plt.cm.gray_r, interpolation='nearest')\n",
        "\n",
        "plt.show()\n",
        "print(digit.data[8])\n",
        "print(\"이 숫자는 \", digit.target[8],\"입니다.\")"
      ]
    }
  ]
}